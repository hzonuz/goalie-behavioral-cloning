{
 "cells": [
  {
   "cell_type": "code",
   "execution_count": 63,
   "metadata": {
    "collapsed": true
   },
   "outputs": [],
   "source": [
    "import numpy as np\n",
    "import pandas as pd\n",
    "import tensorflow as tf\n",
    "import matplotlib.pyplot as plt"
   ]
  },
  {
   "cell_type": "code",
   "execution_count": 64,
   "outputs": [
    {
     "data": {
      "text/plain": "   cycle     mode   ball_x   ball_y  ball_vx  ball_vy  ball_area     my_x  \\\n0    421  play_on -26.4266 -28.4263  -1.8165   0.4374          1 -40.6874   \n1    422  play_on -28.2004 -27.9994  -1.6675   0.4013          1 -40.9578   \n2    423  play_on -29.8278 -27.5923  -1.5297   0.3826          1 -41.2283   \n3    424  play_on -31.3757 -27.2134  -1.4551   0.3562          1 -41.5153   \n4    425  play_on -32.8175 -26.8181  -1.3553   0.3716          1 -41.8329   \n\n     my_y   my_vx  ...  opp_player_4_kick  opp_player_4_dist  \\\n0 -5.3881 -0.0766  ...                  0          29.220594   \n1 -6.1488 -0.1082  ...                  0          29.738884   \n2 -7.0106 -0.1082  ...                  0          28.885839   \n3 -7.9394 -0.1148  ...                  0          28.603467   \n4 -8.7905 -0.1270  ...                  0          28.318141   \n\n   opp_player_4_area  opp_player_5_x  opp_player_5_y  opp_player_5_vx  \\\n0                  0        -20.7132        -29.4389          -0.2120   \n1                  0        -21.4979        -29.2106          -0.2911   \n2                  0        -22.9478         17.4070          -0.0603   \n3                  0        -23.4223         16.9508          -0.1954   \n4                  0        -23.9871         16.3070          -0.2325   \n\n   opp_player_5_vy  opp_player_5_kick  opp_player_5_dist  opp_player_5_area  \n0           0.0566                  0          31.263551                  0  \n1           0.0847                  0          30.175061                  0  \n2           0.0012                  0          30.502391                  0  \n3          -0.1878                  0          30.771394                  0  \n4          -0.2650                  0          30.795407                  0  \n\n[5 rows x 98 columns]",
      "text/html": "<div>\n<style scoped>\n    .dataframe tbody tr th:only-of-type {\n        vertical-align: middle;\n    }\n\n    .dataframe tbody tr th {\n        vertical-align: top;\n    }\n\n    .dataframe thead th {\n        text-align: right;\n    }\n</style>\n<table border=\"1\" class=\"dataframe\">\n  <thead>\n    <tr style=\"text-align: right;\">\n      <th></th>\n      <th>cycle</th>\n      <th>mode</th>\n      <th>ball_x</th>\n      <th>ball_y</th>\n      <th>ball_vx</th>\n      <th>ball_vy</th>\n      <th>ball_area</th>\n      <th>my_x</th>\n      <th>my_y</th>\n      <th>my_vx</th>\n      <th>...</th>\n      <th>opp_player_4_kick</th>\n      <th>opp_player_4_dist</th>\n      <th>opp_player_4_area</th>\n      <th>opp_player_5_x</th>\n      <th>opp_player_5_y</th>\n      <th>opp_player_5_vx</th>\n      <th>opp_player_5_vy</th>\n      <th>opp_player_5_kick</th>\n      <th>opp_player_5_dist</th>\n      <th>opp_player_5_area</th>\n    </tr>\n  </thead>\n  <tbody>\n    <tr>\n      <th>0</th>\n      <td>421</td>\n      <td>play_on</td>\n      <td>-26.4266</td>\n      <td>-28.4263</td>\n      <td>-1.8165</td>\n      <td>0.4374</td>\n      <td>1</td>\n      <td>-40.6874</td>\n      <td>-5.3881</td>\n      <td>-0.0766</td>\n      <td>...</td>\n      <td>0</td>\n      <td>29.220594</td>\n      <td>0</td>\n      <td>-20.7132</td>\n      <td>-29.4389</td>\n      <td>-0.2120</td>\n      <td>0.0566</td>\n      <td>0</td>\n      <td>31.263551</td>\n      <td>0</td>\n    </tr>\n    <tr>\n      <th>1</th>\n      <td>422</td>\n      <td>play_on</td>\n      <td>-28.2004</td>\n      <td>-27.9994</td>\n      <td>-1.6675</td>\n      <td>0.4013</td>\n      <td>1</td>\n      <td>-40.9578</td>\n      <td>-6.1488</td>\n      <td>-0.1082</td>\n      <td>...</td>\n      <td>0</td>\n      <td>29.738884</td>\n      <td>0</td>\n      <td>-21.4979</td>\n      <td>-29.2106</td>\n      <td>-0.2911</td>\n      <td>0.0847</td>\n      <td>0</td>\n      <td>30.175061</td>\n      <td>0</td>\n    </tr>\n    <tr>\n      <th>2</th>\n      <td>423</td>\n      <td>play_on</td>\n      <td>-29.8278</td>\n      <td>-27.5923</td>\n      <td>-1.5297</td>\n      <td>0.3826</td>\n      <td>1</td>\n      <td>-41.2283</td>\n      <td>-7.0106</td>\n      <td>-0.1082</td>\n      <td>...</td>\n      <td>0</td>\n      <td>28.885839</td>\n      <td>0</td>\n      <td>-22.9478</td>\n      <td>17.4070</td>\n      <td>-0.0603</td>\n      <td>0.0012</td>\n      <td>0</td>\n      <td>30.502391</td>\n      <td>0</td>\n    </tr>\n    <tr>\n      <th>3</th>\n      <td>424</td>\n      <td>play_on</td>\n      <td>-31.3757</td>\n      <td>-27.2134</td>\n      <td>-1.4551</td>\n      <td>0.3562</td>\n      <td>1</td>\n      <td>-41.5153</td>\n      <td>-7.9394</td>\n      <td>-0.1148</td>\n      <td>...</td>\n      <td>0</td>\n      <td>28.603467</td>\n      <td>0</td>\n      <td>-23.4223</td>\n      <td>16.9508</td>\n      <td>-0.1954</td>\n      <td>-0.1878</td>\n      <td>0</td>\n      <td>30.771394</td>\n      <td>0</td>\n    </tr>\n    <tr>\n      <th>4</th>\n      <td>425</td>\n      <td>play_on</td>\n      <td>-32.8175</td>\n      <td>-26.8181</td>\n      <td>-1.3553</td>\n      <td>0.3716</td>\n      <td>1</td>\n      <td>-41.8329</td>\n      <td>-8.7905</td>\n      <td>-0.1270</td>\n      <td>...</td>\n      <td>0</td>\n      <td>28.318141</td>\n      <td>0</td>\n      <td>-23.9871</td>\n      <td>16.3070</td>\n      <td>-0.2325</td>\n      <td>-0.2650</td>\n      <td>0</td>\n      <td>30.795407</td>\n      <td>0</td>\n    </tr>\n  </tbody>\n</table>\n<p>5 rows × 98 columns</p>\n</div>"
     },
     "execution_count": 64,
     "metadata": {},
     "output_type": "execute_result"
    }
   ],
   "source": [
    "df = pd.read_csv('log.csv')\n",
    "df.head()"
   ],
   "metadata": {
    "collapsed": false
   }
  },
  {
   "cell_type": "markdown",
   "source": [
    "one-hot encode the mode column"
   ],
   "metadata": {
    "collapsed": false
   }
  },
  {
   "cell_type": "code",
   "execution_count": 65,
   "outputs": [
    {
     "data": {
      "text/plain": "      ball_x     ball_y  ball_vx  ball_vy  ball_area       my_x    my_y  \\\n0 -26.426600 -28.426300  -1.8165   0.4374        1.0 -40.687401 -5.3881   \n1 -28.200399 -27.999399  -1.6675   0.4013        1.0 -40.957802 -6.1488   \n2 -29.827801 -27.592300  -1.5297   0.3826        1.0 -41.228298 -7.0106   \n3 -31.375700 -27.213400  -1.4551   0.3562        1.0 -41.515301 -7.9394   \n4 -32.817501 -26.818100  -1.3553   0.3716        1.0 -41.832901 -8.7905   \n\n    my_vx   my_vy  my_dash_power  ...  mode_foul_charge_r  mode_free_kick_l  \\\n0 -0.0766 -0.2327          100.0  ...                 0.0               0.0   \n1 -0.1082 -0.3043          100.0  ...                 0.0               0.0   \n2 -0.1082 -0.3447          100.0  ...                 0.0               0.0   \n3 -0.1148 -0.3715          100.0  ...                 0.0               0.0   \n4 -0.1270 -0.3404          100.0  ...                 0.0               0.0   \n\n   mode_free_kick_r  mode_goal_kick_l  mode_goal_r  mode_indirect_free_kick_r  \\\n0               0.0               0.0          0.0                        0.0   \n1               0.0               0.0          0.0                        0.0   \n2               0.0               0.0          0.0                        0.0   \n3               0.0               0.0          0.0                        0.0   \n4               0.0               0.0          0.0                        0.0   \n\n   mode_kick_in_l  mode_kick_in_r  mode_offside_r  mode_play_on  \n0             0.0             0.0             0.0           1.0  \n1             0.0             0.0             0.0           1.0  \n2             0.0             0.0             0.0           1.0  \n3             0.0             0.0             0.0           1.0  \n4             0.0             0.0             0.0           1.0  \n\n[5 rows x 109 columns]",
      "text/html": "<div>\n<style scoped>\n    .dataframe tbody tr th:only-of-type {\n        vertical-align: middle;\n    }\n\n    .dataframe tbody tr th {\n        vertical-align: top;\n    }\n\n    .dataframe thead th {\n        text-align: right;\n    }\n</style>\n<table border=\"1\" class=\"dataframe\">\n  <thead>\n    <tr style=\"text-align: right;\">\n      <th></th>\n      <th>ball_x</th>\n      <th>ball_y</th>\n      <th>ball_vx</th>\n      <th>ball_vy</th>\n      <th>ball_area</th>\n      <th>my_x</th>\n      <th>my_y</th>\n      <th>my_vx</th>\n      <th>my_vy</th>\n      <th>my_dash_power</th>\n      <th>...</th>\n      <th>mode_foul_charge_r</th>\n      <th>mode_free_kick_l</th>\n      <th>mode_free_kick_r</th>\n      <th>mode_goal_kick_l</th>\n      <th>mode_goal_r</th>\n      <th>mode_indirect_free_kick_r</th>\n      <th>mode_kick_in_l</th>\n      <th>mode_kick_in_r</th>\n      <th>mode_offside_r</th>\n      <th>mode_play_on</th>\n    </tr>\n  </thead>\n  <tbody>\n    <tr>\n      <th>0</th>\n      <td>-26.426600</td>\n      <td>-28.426300</td>\n      <td>-1.8165</td>\n      <td>0.4374</td>\n      <td>1.0</td>\n      <td>-40.687401</td>\n      <td>-5.3881</td>\n      <td>-0.0766</td>\n      <td>-0.2327</td>\n      <td>100.0</td>\n      <td>...</td>\n      <td>0.0</td>\n      <td>0.0</td>\n      <td>0.0</td>\n      <td>0.0</td>\n      <td>0.0</td>\n      <td>0.0</td>\n      <td>0.0</td>\n      <td>0.0</td>\n      <td>0.0</td>\n      <td>1.0</td>\n    </tr>\n    <tr>\n      <th>1</th>\n      <td>-28.200399</td>\n      <td>-27.999399</td>\n      <td>-1.6675</td>\n      <td>0.4013</td>\n      <td>1.0</td>\n      <td>-40.957802</td>\n      <td>-6.1488</td>\n      <td>-0.1082</td>\n      <td>-0.3043</td>\n      <td>100.0</td>\n      <td>...</td>\n      <td>0.0</td>\n      <td>0.0</td>\n      <td>0.0</td>\n      <td>0.0</td>\n      <td>0.0</td>\n      <td>0.0</td>\n      <td>0.0</td>\n      <td>0.0</td>\n      <td>0.0</td>\n      <td>1.0</td>\n    </tr>\n    <tr>\n      <th>2</th>\n      <td>-29.827801</td>\n      <td>-27.592300</td>\n      <td>-1.5297</td>\n      <td>0.3826</td>\n      <td>1.0</td>\n      <td>-41.228298</td>\n      <td>-7.0106</td>\n      <td>-0.1082</td>\n      <td>-0.3447</td>\n      <td>100.0</td>\n      <td>...</td>\n      <td>0.0</td>\n      <td>0.0</td>\n      <td>0.0</td>\n      <td>0.0</td>\n      <td>0.0</td>\n      <td>0.0</td>\n      <td>0.0</td>\n      <td>0.0</td>\n      <td>0.0</td>\n      <td>1.0</td>\n    </tr>\n    <tr>\n      <th>3</th>\n      <td>-31.375700</td>\n      <td>-27.213400</td>\n      <td>-1.4551</td>\n      <td>0.3562</td>\n      <td>1.0</td>\n      <td>-41.515301</td>\n      <td>-7.9394</td>\n      <td>-0.1148</td>\n      <td>-0.3715</td>\n      <td>100.0</td>\n      <td>...</td>\n      <td>0.0</td>\n      <td>0.0</td>\n      <td>0.0</td>\n      <td>0.0</td>\n      <td>0.0</td>\n      <td>0.0</td>\n      <td>0.0</td>\n      <td>0.0</td>\n      <td>0.0</td>\n      <td>1.0</td>\n    </tr>\n    <tr>\n      <th>4</th>\n      <td>-32.817501</td>\n      <td>-26.818100</td>\n      <td>-1.3553</td>\n      <td>0.3716</td>\n      <td>1.0</td>\n      <td>-41.832901</td>\n      <td>-8.7905</td>\n      <td>-0.1270</td>\n      <td>-0.3404</td>\n      <td>100.0</td>\n      <td>...</td>\n      <td>0.0</td>\n      <td>0.0</td>\n      <td>0.0</td>\n      <td>0.0</td>\n      <td>0.0</td>\n      <td>0.0</td>\n      <td>0.0</td>\n      <td>0.0</td>\n      <td>0.0</td>\n      <td>1.0</td>\n    </tr>\n  </tbody>\n</table>\n<p>5 rows × 109 columns</p>\n</div>"
     },
     "execution_count": 65,
     "metadata": {},
     "output_type": "execute_result"
    }
   ],
   "source": [
    "df = pd.get_dummies(df, columns=['mode']).astype('float32')\n",
    "df = df.astype('float32')\n",
    "df = df.drop('cycle', axis=1)\n",
    "df.head()"
   ],
   "metadata": {
    "collapsed": false
   }
  },
  {
   "cell_type": "markdown",
   "source": [
    "normalize the data"
   ],
   "metadata": {
    "collapsed": false
   }
  },
  {
   "cell_type": "code",
   "execution_count": 66,
   "outputs": [],
   "source": [
    "for col in df.columns:\n",
    "    if col != 'my_dash_power' and col != 'my_dash_dir' and col != 'my_turn':\n",
    "        df[col] = (df[col] - df[col].min()) / (df[col].max() - df[col].min())"
   ],
   "metadata": {
    "collapsed": false
   }
  },
  {
   "cell_type": "markdown",
   "source": [
    "split the data into train and test"
   ],
   "metadata": {
    "collapsed": false
   }
  },
  {
   "cell_type": "code",
   "execution_count": 67,
   "outputs": [],
   "source": [
    "train = df.sample(frac=0.8, random_state=200)"
   ],
   "metadata": {
    "collapsed": false
   }
  },
  {
   "cell_type": "markdown",
   "source": [
    "split the data into train and validation"
   ],
   "metadata": {
    "collapsed": false
   }
  },
  {
   "cell_type": "code",
   "execution_count": 68,
   "outputs": [
    {
     "data": {
      "text/plain": "         ball_x    ball_y   ball_vx   ball_vy  ball_area      my_x      my_y  \\\n71589  0.971587  0.699369  0.375538  0.487628   0.333333  0.429493  0.632545   \n34897  0.145410  0.846977  0.484202  0.407590   0.666667  0.126713  0.643489   \n71431  0.229355  0.998804  0.494190  0.501477   0.666667  0.143500  0.645084   \n41764  0.875269  0.806967  0.700593  0.245082   0.333333  0.261055  0.609565   \n7596   0.998483  0.001081  0.494190  0.501477   0.333333  0.333459  0.416931   \n\n          my_vx     my_vy  my_dash_power  ...  mode_foul_charge_r  \\\n71589  0.345225  0.460793          100.0  ...                 0.0   \n34897  0.502596  0.496011            0.0  ...                 0.0   \n71431  0.502596  0.496011            0.0  ...                 0.0   \n41764  0.570558  0.461249          100.0  ...                 0.0   \n7596   0.355724  0.492706            0.0  ...                 0.0   \n\n       mode_free_kick_l  mode_free_kick_r  mode_goal_kick_l  mode_goal_r  \\\n71589               0.0               0.0               0.0          0.0   \n34897               0.0               0.0               0.0          0.0   \n71431               0.0               0.0               0.0          0.0   \n41764               0.0               0.0               0.0          0.0   \n7596                0.0               0.0               0.0          0.0   \n\n       mode_indirect_free_kick_r  mode_kick_in_l  mode_kick_in_r  \\\n71589                        0.0             0.0             0.0   \n34897                        0.0             0.0             0.0   \n71431                        0.0             0.0             1.0   \n41764                        0.0             0.0             0.0   \n7596                         0.0             0.0             1.0   \n\n       mode_offside_r  mode_play_on  \n71589             0.0           1.0  \n34897             0.0           1.0  \n71431             0.0           0.0  \n41764             0.0           1.0  \n7596              0.0           0.0  \n\n[5 rows x 109 columns]",
      "text/html": "<div>\n<style scoped>\n    .dataframe tbody tr th:only-of-type {\n        vertical-align: middle;\n    }\n\n    .dataframe tbody tr th {\n        vertical-align: top;\n    }\n\n    .dataframe thead th {\n        text-align: right;\n    }\n</style>\n<table border=\"1\" class=\"dataframe\">\n  <thead>\n    <tr style=\"text-align: right;\">\n      <th></th>\n      <th>ball_x</th>\n      <th>ball_y</th>\n      <th>ball_vx</th>\n      <th>ball_vy</th>\n      <th>ball_area</th>\n      <th>my_x</th>\n      <th>my_y</th>\n      <th>my_vx</th>\n      <th>my_vy</th>\n      <th>my_dash_power</th>\n      <th>...</th>\n      <th>mode_foul_charge_r</th>\n      <th>mode_free_kick_l</th>\n      <th>mode_free_kick_r</th>\n      <th>mode_goal_kick_l</th>\n      <th>mode_goal_r</th>\n      <th>mode_indirect_free_kick_r</th>\n      <th>mode_kick_in_l</th>\n      <th>mode_kick_in_r</th>\n      <th>mode_offside_r</th>\n      <th>mode_play_on</th>\n    </tr>\n  </thead>\n  <tbody>\n    <tr>\n      <th>71589</th>\n      <td>0.971587</td>\n      <td>0.699369</td>\n      <td>0.375538</td>\n      <td>0.487628</td>\n      <td>0.333333</td>\n      <td>0.429493</td>\n      <td>0.632545</td>\n      <td>0.345225</td>\n      <td>0.460793</td>\n      <td>100.0</td>\n      <td>...</td>\n      <td>0.0</td>\n      <td>0.0</td>\n      <td>0.0</td>\n      <td>0.0</td>\n      <td>0.0</td>\n      <td>0.0</td>\n      <td>0.0</td>\n      <td>0.0</td>\n      <td>0.0</td>\n      <td>1.0</td>\n    </tr>\n    <tr>\n      <th>34897</th>\n      <td>0.145410</td>\n      <td>0.846977</td>\n      <td>0.484202</td>\n      <td>0.407590</td>\n      <td>0.666667</td>\n      <td>0.126713</td>\n      <td>0.643489</td>\n      <td>0.502596</td>\n      <td>0.496011</td>\n      <td>0.0</td>\n      <td>...</td>\n      <td>0.0</td>\n      <td>0.0</td>\n      <td>0.0</td>\n      <td>0.0</td>\n      <td>0.0</td>\n      <td>0.0</td>\n      <td>0.0</td>\n      <td>0.0</td>\n      <td>0.0</td>\n      <td>1.0</td>\n    </tr>\n    <tr>\n      <th>71431</th>\n      <td>0.229355</td>\n      <td>0.998804</td>\n      <td>0.494190</td>\n      <td>0.501477</td>\n      <td>0.666667</td>\n      <td>0.143500</td>\n      <td>0.645084</td>\n      <td>0.502596</td>\n      <td>0.496011</td>\n      <td>0.0</td>\n      <td>...</td>\n      <td>0.0</td>\n      <td>0.0</td>\n      <td>0.0</td>\n      <td>0.0</td>\n      <td>0.0</td>\n      <td>0.0</td>\n      <td>0.0</td>\n      <td>1.0</td>\n      <td>0.0</td>\n      <td>0.0</td>\n    </tr>\n    <tr>\n      <th>41764</th>\n      <td>0.875269</td>\n      <td>0.806967</td>\n      <td>0.700593</td>\n      <td>0.245082</td>\n      <td>0.333333</td>\n      <td>0.261055</td>\n      <td>0.609565</td>\n      <td>0.570558</td>\n      <td>0.461249</td>\n      <td>100.0</td>\n      <td>...</td>\n      <td>0.0</td>\n      <td>0.0</td>\n      <td>0.0</td>\n      <td>0.0</td>\n      <td>0.0</td>\n      <td>0.0</td>\n      <td>0.0</td>\n      <td>0.0</td>\n      <td>0.0</td>\n      <td>1.0</td>\n    </tr>\n    <tr>\n      <th>7596</th>\n      <td>0.998483</td>\n      <td>0.001081</td>\n      <td>0.494190</td>\n      <td>0.501477</td>\n      <td>0.333333</td>\n      <td>0.333459</td>\n      <td>0.416931</td>\n      <td>0.355724</td>\n      <td>0.492706</td>\n      <td>0.0</td>\n      <td>...</td>\n      <td>0.0</td>\n      <td>0.0</td>\n      <td>0.0</td>\n      <td>0.0</td>\n      <td>0.0</td>\n      <td>0.0</td>\n      <td>0.0</td>\n      <td>1.0</td>\n      <td>0.0</td>\n      <td>0.0</td>\n    </tr>\n  </tbody>\n</table>\n<p>5 rows × 109 columns</p>\n</div>"
     },
     "execution_count": 68,
     "metadata": {},
     "output_type": "execute_result"
    }
   ],
   "source": [
    "validation = df.drop(train.index)\n",
    "train.head()"
   ],
   "metadata": {
    "collapsed": false
   }
  },
  {
   "cell_type": "markdown",
   "source": [
    "add layers to the model"
   ],
   "metadata": {
    "collapsed": false
   }
  },
  {
   "cell_type": "code",
   "execution_count": 69,
   "outputs": [],
   "source": [
    "model = tf.keras.models.Sequential([\n",
    "    tf.keras.layers.Dense(256, activation='relu', input_shape=(len(df.columns) - 3,)),\n",
    "    tf.keras.layers.Dense(128, activation='relu'),\n",
    "    tf.keras.layers.Dense(256, activation='relu'),\n",
    "    tf.keras.layers.Dropout(0.2),  # drop 20% of the neurons\n",
    "    tf.keras.layers.Dense(128, activation='relu'),\n",
    "    tf.keras.layers.Dense(64, activation='relu'),\n",
    "    tf.keras.layers.Dropout(0.2),  # drop 20% of the neurons\n",
    "    tf.keras.layers.Dense(32, activation='relu'),\n",
    "    tf.keras.layers.Dense(32, activation='relu'),\n",
    "    tf.keras.layers.Dense(3, activation='linear')\n",
    "])"
   ],
   "metadata": {
    "collapsed": false
   }
  },
  {
   "cell_type": "code",
   "execution_count": 70,
   "outputs": [],
   "source": [
    "model.compile(optimizer='adam', loss='mse')"
   ],
   "metadata": {
    "collapsed": false
   }
  },
  {
   "cell_type": "code",
   "execution_count": 71,
   "outputs": [
    {
     "name": "stdout",
     "output_type": "stream",
     "text": [
      "Epoch 1/100\n",
      "2002/2002 [==============================] - 4s 2ms/step - loss: 1592.6152 - val_loss: 1534.4631\n",
      "Epoch 2/100\n",
      "2002/2002 [==============================] - 4s 2ms/step - loss: 1529.5010 - val_loss: 1482.3845\n",
      "Epoch 3/100\n",
      "2002/2002 [==============================] - 4s 2ms/step - loss: 1506.4800 - val_loss: 1457.7410\n",
      "Epoch 4/100\n",
      "2002/2002 [==============================] - 4s 2ms/step - loss: 1492.3317 - val_loss: 1448.7456\n",
      "Epoch 5/100\n",
      "2002/2002 [==============================] - 4s 2ms/step - loss: 1487.2213 - val_loss: 1450.0049\n",
      "Epoch 6/100\n",
      "2002/2002 [==============================] - 3s 2ms/step - loss: 1480.7568 - val_loss: 1439.7013\n",
      "Epoch 7/100\n",
      "2002/2002 [==============================] - 3s 2ms/step - loss: 1472.7610 - val_loss: 1451.0341\n",
      "Epoch 8/100\n",
      "2002/2002 [==============================] - 4s 2ms/step - loss: 1469.7784 - val_loss: 1463.0773\n",
      "Epoch 9/100\n",
      "2002/2002 [==============================] - 3s 2ms/step - loss: 1465.8103 - val_loss: 1441.7866\n",
      "Epoch 10/100\n",
      "2002/2002 [==============================] - 3s 2ms/step - loss: 1460.5298 - val_loss: 1431.7449\n",
      "Epoch 11/100\n",
      "2002/2002 [==============================] - 3s 2ms/step - loss: 1453.7180 - val_loss: 1447.4944\n",
      "Epoch 12/100\n",
      "2002/2002 [==============================] - 3s 2ms/step - loss: 1447.4946 - val_loss: 1423.5680\n",
      "Epoch 13/100\n",
      "2002/2002 [==============================] - 3s 2ms/step - loss: 1442.6937 - val_loss: 1446.5852\n",
      "Epoch 14/100\n",
      "2002/2002 [==============================] - 3s 2ms/step - loss: 1438.7538 - val_loss: 1455.3157\n",
      "Epoch 15/100\n",
      "2002/2002 [==============================] - 3s 2ms/step - loss: 1434.8903 - val_loss: 1436.3712\n",
      "Epoch 16/100\n",
      "2002/2002 [==============================] - 3s 2ms/step - loss: 1433.7887 - val_loss: 1415.2881\n",
      "Epoch 17/100\n",
      "2002/2002 [==============================] - 3s 2ms/step - loss: 1428.9889 - val_loss: 1411.0150\n",
      "Epoch 18/100\n",
      "2002/2002 [==============================] - 3s 2ms/step - loss: 1423.2140 - val_loss: 1404.1840\n",
      "Epoch 19/100\n",
      "2002/2002 [==============================] - 3s 2ms/step - loss: 1420.5345 - val_loss: 1407.7413\n",
      "Epoch 20/100\n",
      "2002/2002 [==============================] - 3s 2ms/step - loss: 1415.6328 - val_loss: 1423.8738\n",
      "Epoch 21/100\n",
      "2002/2002 [==============================] - 3s 2ms/step - loss: 1415.0222 - val_loss: 1422.0166\n",
      "Epoch 22/100\n",
      "2002/2002 [==============================] - 3s 2ms/step - loss: 1409.8721 - val_loss: 1429.5172\n",
      "Epoch 23/100\n",
      "2002/2002 [==============================] - 3s 2ms/step - loss: 1404.6208 - val_loss: 1412.8800\n",
      "Epoch 24/100\n",
      "2002/2002 [==============================] - 3s 2ms/step - loss: 1403.1960 - val_loss: 1419.1698\n",
      "Epoch 25/100\n",
      "2002/2002 [==============================] - 3s 2ms/step - loss: 1398.8093 - val_loss: 1410.7781\n",
      "Epoch 26/100\n",
      "2002/2002 [==============================] - 3s 2ms/step - loss: 1393.6776 - val_loss: 1413.6045\n",
      "Epoch 27/100\n",
      "2002/2002 [==============================] - 3s 2ms/step - loss: 1391.1801 - val_loss: 1390.2664\n",
      "Epoch 28/100\n",
      "2002/2002 [==============================] - 3s 2ms/step - loss: 1386.5751 - val_loss: 1411.7363\n",
      "Epoch 29/100\n",
      "2002/2002 [==============================] - 3s 2ms/step - loss: 1386.6505 - val_loss: 1409.1598\n",
      "Epoch 30/100\n",
      "2002/2002 [==============================] - 3s 2ms/step - loss: 1385.2786 - val_loss: 1383.4003\n",
      "Epoch 31/100\n",
      "2002/2002 [==============================] - 3s 2ms/step - loss: 1376.8883 - val_loss: 1399.3247\n",
      "Epoch 32/100\n",
      "2002/2002 [==============================] - 3s 2ms/step - loss: 1379.0670 - val_loss: 1413.4377\n",
      "Epoch 33/100\n",
      "2002/2002 [==============================] - 3s 2ms/step - loss: 1375.4871 - val_loss: 1406.5966\n",
      "Epoch 34/100\n",
      "2002/2002 [==============================] - 3s 2ms/step - loss: 1369.1774 - val_loss: 1396.1803\n",
      "Epoch 35/100\n",
      "2002/2002 [==============================] - 3s 2ms/step - loss: 1365.7177 - val_loss: 1407.3602\n",
      "Epoch 36/100\n",
      "2002/2002 [==============================] - 3s 2ms/step - loss: 1367.1304 - val_loss: 1385.3770\n",
      "Epoch 37/100\n",
      "2002/2002 [==============================] - 3s 2ms/step - loss: 1362.9817 - val_loss: 1401.7843\n",
      "Epoch 38/100\n",
      "2002/2002 [==============================] - 3s 2ms/step - loss: 1362.0042 - val_loss: 1403.9108\n",
      "Epoch 39/100\n",
      "2002/2002 [==============================] - 3s 2ms/step - loss: 1358.2961 - val_loss: 1387.4943\n",
      "Epoch 40/100\n",
      "2002/2002 [==============================] - 3s 2ms/step - loss: 1349.1555 - val_loss: 1397.3116\n",
      "Epoch 41/100\n",
      "2002/2002 [==============================] - 3s 2ms/step - loss: 1348.2552 - val_loss: 1406.4518\n",
      "Epoch 42/100\n",
      "2002/2002 [==============================] - 3s 2ms/step - loss: 1347.2891 - val_loss: 1418.3215\n",
      "Epoch 43/100\n",
      "2002/2002 [==============================] - 3s 2ms/step - loss: 1343.9850 - val_loss: 1394.7083\n",
      "Epoch 44/100\n",
      "2002/2002 [==============================] - 3s 2ms/step - loss: 1339.4351 - val_loss: 1409.6432\n",
      "Epoch 45/100\n",
      "2002/2002 [==============================] - 3s 2ms/step - loss: 1339.4335 - val_loss: 1418.8080\n",
      "Epoch 46/100\n",
      "2002/2002 [==============================] - 3s 2ms/step - loss: 1338.0148 - val_loss: 1389.5975\n",
      "Epoch 47/100\n",
      "2002/2002 [==============================] - 3s 2ms/step - loss: 1330.6157 - val_loss: 1415.4749\n",
      "Epoch 48/100\n",
      "2002/2002 [==============================] - 3s 2ms/step - loss: 1329.6263 - val_loss: 1399.2306\n",
      "Epoch 49/100\n",
      "2002/2002 [==============================] - 3s 2ms/step - loss: 1327.0609 - val_loss: 1388.8053\n",
      "Epoch 50/100\n",
      "2002/2002 [==============================] - 3s 2ms/step - loss: 1323.6218 - val_loss: 1422.6743\n",
      "Epoch 51/100\n",
      "2002/2002 [==============================] - 3s 2ms/step - loss: 1318.8875 - val_loss: 1405.6348\n",
      "Epoch 52/100\n",
      "2002/2002 [==============================] - 3s 2ms/step - loss: 1319.2841 - val_loss: 1426.1432\n",
      "Epoch 53/100\n",
      "2002/2002 [==============================] - 3s 2ms/step - loss: 1314.8096 - val_loss: 1460.4678\n",
      "Epoch 54/100\n",
      "2002/2002 [==============================] - 3s 2ms/step - loss: 1310.0468 - val_loss: 1425.1064\n",
      "Epoch 55/100\n",
      "2002/2002 [==============================] - 3s 2ms/step - loss: 1304.4851 - val_loss: 1433.9122\n",
      "Epoch 56/100\n",
      "2002/2002 [==============================] - 3s 2ms/step - loss: 1305.6624 - val_loss: 1416.6116\n",
      "Epoch 57/100\n",
      "2002/2002 [==============================] - 3s 2ms/step - loss: 1302.1931 - val_loss: 1388.3582\n",
      "Epoch 58/100\n",
      "2002/2002 [==============================] - 3s 2ms/step - loss: 1299.3969 - val_loss: 1392.2782\n",
      "Epoch 59/100\n",
      "2002/2002 [==============================] - 3s 2ms/step - loss: 1290.4095 - val_loss: 1384.7211\n",
      "Epoch 60/100\n",
      "2002/2002 [==============================] - 3s 2ms/step - loss: 1293.2300 - val_loss: 1400.7505\n",
      "Epoch 61/100\n",
      "2002/2002 [==============================] - 3s 2ms/step - loss: 1289.3394 - val_loss: 1396.0215\n",
      "Epoch 62/100\n",
      "2002/2002 [==============================] - 3s 2ms/step - loss: 1286.1552 - val_loss: 1417.4943\n",
      "Epoch 63/100\n",
      "2002/2002 [==============================] - 3s 2ms/step - loss: 1283.2673 - val_loss: 1392.6622\n",
      "Epoch 64/100\n",
      "2002/2002 [==============================] - 3s 2ms/step - loss: 1281.7682 - val_loss: 1435.0398\n",
      "Epoch 65/100\n",
      "2002/2002 [==============================] - 3s 2ms/step - loss: 1275.2413 - val_loss: 1426.4021\n",
      "Epoch 66/100\n",
      "2002/2002 [==============================] - 3s 2ms/step - loss: 1272.1868 - val_loss: 1410.1489\n",
      "Epoch 67/100\n",
      "2002/2002 [==============================] - 3s 2ms/step - loss: 1269.3353 - val_loss: 1397.2906\n",
      "Epoch 68/100\n",
      "2002/2002 [==============================] - 3s 2ms/step - loss: 1263.3024 - val_loss: 1391.6238\n",
      "Epoch 69/100\n",
      "2002/2002 [==============================] - 3s 2ms/step - loss: 1264.6691 - val_loss: 1386.2971\n",
      "Epoch 70/100\n",
      "2002/2002 [==============================] - 3s 2ms/step - loss: 1258.6993 - val_loss: 1462.2767\n",
      "Epoch 71/100\n",
      "2002/2002 [==============================] - 3s 2ms/step - loss: 1256.6781 - val_loss: 1410.7917\n",
      "Epoch 72/100\n",
      "2002/2002 [==============================] - 3s 2ms/step - loss: 1253.4658 - val_loss: 1392.3993\n",
      "Epoch 73/100\n",
      "2002/2002 [==============================] - 3s 2ms/step - loss: 1250.5966 - val_loss: 1410.9720\n",
      "Epoch 74/100\n",
      "2002/2002 [==============================] - 3s 2ms/step - loss: 1249.6088 - val_loss: 1413.1498\n",
      "Epoch 75/100\n",
      "2002/2002 [==============================] - 3s 2ms/step - loss: 1245.1111 - val_loss: 1410.6073\n",
      "Epoch 76/100\n",
      "2002/2002 [==============================] - 3s 2ms/step - loss: 1245.0316 - val_loss: 1431.7686\n",
      "Epoch 77/100\n",
      "2002/2002 [==============================] - 3s 2ms/step - loss: 1238.0292 - val_loss: 1431.0762\n",
      "Epoch 78/100\n",
      "2002/2002 [==============================] - 3s 2ms/step - loss: 1236.4280 - val_loss: 1434.4291\n",
      "Epoch 79/100\n",
      "2002/2002 [==============================] - 3s 2ms/step - loss: 1233.0372 - val_loss: 1430.1472\n",
      "Epoch 80/100\n",
      "2002/2002 [==============================] - 3s 2ms/step - loss: 1233.8606 - val_loss: 1437.7793\n",
      "Epoch 81/100\n",
      "2002/2002 [==============================] - 3s 2ms/step - loss: 1225.0898 - val_loss: 1423.7633\n",
      "Epoch 82/100\n",
      "2002/2002 [==============================] - 3s 2ms/step - loss: 1225.0015 - val_loss: 1424.2816\n",
      "Epoch 83/100\n",
      "2002/2002 [==============================] - 3s 2ms/step - loss: 1223.1614 - val_loss: 1399.0481\n",
      "Epoch 84/100\n",
      "2002/2002 [==============================] - 3s 2ms/step - loss: 1220.9330 - val_loss: 1416.3531\n",
      "Epoch 85/100\n",
      "2002/2002 [==============================] - 4s 2ms/step - loss: 1213.4811 - val_loss: 1434.4286\n",
      "Epoch 86/100\n",
      "2002/2002 [==============================] - 3s 2ms/step - loss: 1212.6256 - val_loss: 1466.9292\n",
      "Epoch 87/100\n",
      "2002/2002 [==============================] - 3s 2ms/step - loss: 1206.3756 - val_loss: 1418.8792\n",
      "Epoch 88/100\n",
      "2002/2002 [==============================] - 3s 2ms/step - loss: 1209.8889 - val_loss: 1413.5281\n",
      "Epoch 89/100\n",
      "2002/2002 [==============================] - 3s 2ms/step - loss: 1195.8699 - val_loss: 1418.4330\n",
      "Epoch 90/100\n",
      "2002/2002 [==============================] - 3s 2ms/step - loss: 1198.8370 - val_loss: 1412.2357\n",
      "Epoch 91/100\n",
      "2002/2002 [==============================] - 3s 2ms/step - loss: 1197.6378 - val_loss: 1418.8044\n",
      "Epoch 92/100\n",
      "2002/2002 [==============================] - 4s 2ms/step - loss: 1198.7546 - val_loss: 1413.5553\n",
      "Epoch 93/100\n",
      "2002/2002 [==============================] - 3s 2ms/step - loss: 1183.3531 - val_loss: 1412.0548\n",
      "Epoch 94/100\n",
      "2002/2002 [==============================] - 3s 2ms/step - loss: 1189.2252 - val_loss: 1417.9098\n",
      "Epoch 95/100\n",
      "2002/2002 [==============================] - 3s 2ms/step - loss: 1179.7137 - val_loss: 1431.1516\n",
      "Epoch 96/100\n",
      "2002/2002 [==============================] - 3s 2ms/step - loss: 1180.3270 - val_loss: 1466.6162\n",
      "Epoch 97/100\n",
      "2002/2002 [==============================] - 3s 2ms/step - loss: 1172.3560 - val_loss: 1438.4421\n",
      "Epoch 98/100\n",
      "2002/2002 [==============================] - 3s 2ms/step - loss: 1169.5491 - val_loss: 1434.8887\n",
      "Epoch 99/100\n",
      "2002/2002 [==============================] - 3s 2ms/step - loss: 1171.8077 - val_loss: 1429.6663\n",
      "Epoch 100/100\n",
      "2002/2002 [==============================] - 3s 2ms/step - loss: 1170.5562 - val_loss: 1407.7955\n"
     ]
    },
    {
     "data": {
      "text/plain": "<keras.src.callbacks.History at 0x14c855810>"
     },
     "execution_count": 71,
     "metadata": {},
     "output_type": "execute_result"
    }
   ],
   "source": [
    "model.fit(train.drop(columns=['my_dash_power', 'my_dash_dir', 'my_turn'], axis=1), train.loc[:,['my_dash_power', 'my_dash_dir', 'my_turn']], epochs=100, validation_data=(validation.drop(['my_dash_power', 'my_dash_dir', 'my_turn'], axis=1), validation.loc[:,['my_dash_power', 'my_dash_dir', 'my_turn']]))"
   ],
   "metadata": {
    "collapsed": false
   }
  },
  {
   "cell_type": "markdown",
   "source": [
    "plot the loss"
   ],
   "metadata": {
    "collapsed": false
   }
  },
  {
   "cell_type": "code",
   "execution_count": 72,
   "outputs": [
    {
     "data": {
      "text/plain": "[<matplotlib.lines.Line2D at 0x2e2204390>]"
     },
     "execution_count": 72,
     "metadata": {},
     "output_type": "execute_result"
    },
    {
     "data": {
      "text/plain": "<Figure size 640x480 with 1 Axes>",
      "image/png": "[encoded data removed]"
     },
     "metadata": {},
     "output_type": "display_data"
    }
   ],
   "source": [
    "plt.plot(model.history.history['loss'])"
   ],
   "metadata": {
    "collapsed": false
   }
  },
  {
   "cell_type": "markdown",
   "source": [
    "plot the validation loss"
   ],
   "metadata": {
    "collapsed": false
   }
  },
  {
   "cell_type": "code",
   "execution_count": 73,
   "outputs": [
    {
     "data": {
      "text/plain": "[<matplotlib.lines.Line2D at 0x2caecf650>]"
     },
     "execution_count": 73,
     "metadata": {},
     "output_type": "execute_result"
    },
    {
     "data": {
      "text/plain": "<Figure size 640x480 with 1 Axes>",
      "image/png": "[encoded data removed]"
     },
     "metadata": {},
     "output_type": "display_data"
    }
   ],
   "source": [
    "plt.plot(model.history.history['val_loss'])"
   ],
   "metadata": {
    "collapsed": false
   }
  },
  {
   "cell_type": "markdown",
   "source": [
    "save the model"
   ],
   "metadata": {
    "collapsed": false
   }
  },
  {
   "cell_type": "code",
   "execution_count": 74,
   "outputs": [
    {
     "name": "stderr",
     "output_type": "stream",
     "text": [
      "/Users/hasan/Documents/final-project/venv/lib/python3.11/site-packages/keras/src/engine/training.py:3000: UserWarning: You are saving your model as an HDF5 file via `model.save()`. This file format is considered legacy. We recommend using instead the native Keras format, e.g. `model.save('my_model.keras')`.\n",
      "  saving_api.save_model(\n"
     ]
    }
   ],
   "source": [
    "model.save('model.h5')"
   ],
   "metadata": {
    "collapsed": false
   }
  },
  {
   "cell_type": "code",
   "execution_count": 75,
   "outputs": [
    {
     "name": "stdout",
     "output_type": "stream",
     "text": [
      "501/501 [==============================] - 0s 595us/step - loss: 1407.7955\n"
     ]
    },
    {
     "data": {
      "text/plain": "1407.7955322265625"
     },
     "execution_count": 75,
     "metadata": {},
     "output_type": "execute_result"
    }
   ],
   "source": [
    "model.evaluate(validation.drop(['my_dash_power', 'my_dash_dir', 'my_turn'], axis=1), validation.loc[:,['my_dash_power', 'my_dash_dir', 'my_turn']])"
   ],
   "metadata": {
    "collapsed": false
   }
  },
  {
   "cell_type": "code",
   "execution_count": 76,
   "outputs": [
    {
     "name": "stdout",
     "output_type": "stream",
     "text": [
      "501/501 [==============================] - 0s 539us/step\n"
     ]
    },
    {
     "data": {
      "text/plain": "array([[ 8.3050179e+01,  6.1286563e-01, -4.5121064e+00],\n       [ 7.4601974e+01,  7.3039269e-01, -4.0048428e+00],\n       [ 6.6166550e+01,  3.8029575e-01, -4.8761325e+00],\n       ...,\n       [ 2.3050367e+01,  7.4521303e-02, -1.0995122e+01],\n       [ 6.6582993e+01,  2.8317451e-01, -3.7764125e+00],\n       [ 8.1035061e+00,  2.3755264e-01,  5.6150810e+01]], dtype=float32)"
     },
     "execution_count": 76,
     "metadata": {},
     "output_type": "execute_result"
    }
   ],
   "source": [
    "model.predict(validation.drop(['my_dash_power', 'my_dash_dir', 'my_turn'], axis=1))"
   ],
   "metadata": {
    "collapsed": false
   }
  },
  {
   "cell_type": "code",
   "execution_count": 77,
   "outputs": [],
   "source": [
    "result_df = validation.loc[:,['my_dash_power', 'my_dash_dir', 'my_turn']]"
   ],
   "metadata": {
    "collapsed": false
   }
  },
  {
   "cell_type": "code",
   "execution_count": 78,
   "outputs": [
    {
     "data": {
      "text/plain": "    my_dash_power  my_dash_dir  my_turn\n3           100.0          6.0     37.0\n4           100.0          4.0    -39.0\n14          100.0          0.0    -49.0",
      "text/html": "<div>\n<style scoped>\n    .dataframe tbody tr th:only-of-type {\n        vertical-align: middle;\n    }\n\n    .dataframe tbody tr th {\n        vertical-align: top;\n    }\n\n    .dataframe thead th {\n        text-align: right;\n    }\n</style>\n<table border=\"1\" class=\"dataframe\">\n  <thead>\n    <tr style=\"text-align: right;\">\n      <th></th>\n      <th>my_dash_power</th>\n      <th>my_dash_dir</th>\n      <th>my_turn</th>\n    </tr>\n  </thead>\n  <tbody>\n    <tr>\n      <th>3</th>\n      <td>100.0</td>\n      <td>6.0</td>\n      <td>37.0</td>\n    </tr>\n    <tr>\n      <th>4</th>\n      <td>100.0</td>\n      <td>4.0</td>\n      <td>-39.0</td>\n    </tr>\n    <tr>\n      <th>14</th>\n      <td>100.0</td>\n      <td>0.0</td>\n      <td>-49.0</td>\n    </tr>\n  </tbody>\n</table>\n</div>"
     },
     "execution_count": 78,
     "metadata": {},
     "output_type": "execute_result"
    }
   ],
   "source": [
    "result_df.head(3)"
   ],
   "metadata": {
    "collapsed": false
   }
  },
  {
   "cell_type": "markdown",
   "source": [
    "save in result.csv"
   ],
   "metadata": {
    "collapsed": false
   }
  },
  {
   "cell_type": "code",
   "execution_count": 79,
   "outputs": [],
   "source": [
    "result_df.to_csv('result.csv', index=False)"
   ],
   "metadata": {
    "collapsed": false
   }
  },
  {
   "cell_type": "code",
   "execution_count": null,
   "outputs": [],
   "source": [],
   "metadata": {
    "collapsed": false
   }
  }
 ],
 "metadata": {
  "kernelspec": {
   "name": "venv\n",
   "language": "python",
   "display_name": "venv\n"
  },
  "language_info": {
   "codemirror_mode": {
    "name": "ipython",
    "version": 2
   },
   "file_extension": ".py",
   "mimetype": "text/x-python",
   "name": "python",
   "nbconvert_exporter": "python",
   "pygments_lexer": "ipython2",
   "version": "2.7.6"
  }
 },
 "nbformat": 4,
 "nbformat_minor": 0
}
