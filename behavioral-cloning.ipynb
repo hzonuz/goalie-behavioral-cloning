{
 "cells": [
  {
   "cell_type": "code",
   "execution_count": 179,
   "metadata": {
    "collapsed": true
   },
   "outputs": [],
   "source": [
    "import pandas as pd\n",
    "import tensorflow as tf\n",
    "import matplotlib.pyplot as plt"
   ]
  },
  {
   "cell_type": "code",
   "execution_count": 180,
   "outputs": [
    {
     "data": {
      "text/plain": "   cycle     mode   ball_x   ball_y  ball_vx  ball_vy  ball_area     my_x  \\\n0    693  play_on -25.4260 -18.3103  -1.8574   0.1634          1 -39.3941   \n1    694  play_on -27.2876 -18.1470  -1.7499   0.1535          1 -39.5709   \n2    695  play_on -29.0081 -17.9264  -1.6173   0.2074          1 -39.7623   \n3    696  play_on -30.6820 -17.6790  -1.5735   0.2325          1 -40.0416   \n4    697  play_on -32.2676 -17.4541  -1.4904   0.2115          1 -40.2687   \n\n     my_y   my_vx  ...  opp_player_4_kick  opp_player_4_dist  \\\n0 -4.6282  0.0311  ...                  0          28.357855   \n1 -5.1420 -0.0707  ...                  0          27.538148   \n2 -5.8568 -0.0766  ...                  0          26.913757   \n3 -6.6899 -0.1117  ...                  0          26.851640   \n4 -7.6518 -0.0908  ...                  0          25.629512   \n\n   opp_player_4_area  opp_player_5_x  opp_player_5_y  opp_player_5_vx  \\\n0                  0        -20.0719        -27.9129          -0.1881   \n1                  0        -20.6643        -27.5485          -0.1989   \n2                  0        -21.3668        -27.1998          -0.2359   \n3                  0        -22.0475        -26.7885          -0.2286   \n4                  0        -25.3030         14.6713          -0.1458   \n\n   opp_player_5_vy  opp_player_5_kick  opp_player_5_dist  opp_player_5_area  \n0           0.1216                  0          30.257638                  0  \n1           0.1224                  0          29.317414                  0  \n2           0.1171                  0          28.176552                  0  \n3           0.1381                  0          26.976682                  0  \n4          -0.3770                  0          26.875509                  1  \n\n[5 rows x 98 columns]",
      "text/html": "<div>\n<style scoped>\n    .dataframe tbody tr th:only-of-type {\n        vertical-align: middle;\n    }\n\n    .dataframe tbody tr th {\n        vertical-align: top;\n    }\n\n    .dataframe thead th {\n        text-align: right;\n    }\n</style>\n<table border=\"1\" class=\"dataframe\">\n  <thead>\n    <tr style=\"text-align: right;\">\n      <th></th>\n      <th>cycle</th>\n      <th>mode</th>\n      <th>ball_x</th>\n      <th>ball_y</th>\n      <th>ball_vx</th>\n      <th>ball_vy</th>\n      <th>ball_area</th>\n      <th>my_x</th>\n      <th>my_y</th>\n      <th>my_vx</th>\n      <th>...</th>\n      <th>opp_player_4_kick</th>\n      <th>opp_player_4_dist</th>\n      <th>opp_player_4_area</th>\n      <th>opp_player_5_x</th>\n      <th>opp_player_5_y</th>\n      <th>opp_player_5_vx</th>\n      <th>opp_player_5_vy</th>\n      <th>opp_player_5_kick</th>\n      <th>opp_player_5_dist</th>\n      <th>opp_player_5_area</th>\n    </tr>\n  </thead>\n  <tbody>\n    <tr>\n      <th>0</th>\n      <td>693</td>\n      <td>play_on</td>\n      <td>-25.4260</td>\n      <td>-18.3103</td>\n      <td>-1.8574</td>\n      <td>0.1634</td>\n      <td>1</td>\n      <td>-39.3941</td>\n      <td>-4.6282</td>\n      <td>0.0311</td>\n      <td>...</td>\n      <td>0</td>\n      <td>28.357855</td>\n      <td>0</td>\n      <td>-20.0719</td>\n      <td>-27.9129</td>\n      <td>-0.1881</td>\n      <td>0.1216</td>\n      <td>0</td>\n      <td>30.257638</td>\n      <td>0</td>\n    </tr>\n    <tr>\n      <th>1</th>\n      <td>694</td>\n      <td>play_on</td>\n      <td>-27.2876</td>\n      <td>-18.1470</td>\n      <td>-1.7499</td>\n      <td>0.1535</td>\n      <td>1</td>\n      <td>-39.5709</td>\n      <td>-5.1420</td>\n      <td>-0.0707</td>\n      <td>...</td>\n      <td>0</td>\n      <td>27.538148</td>\n      <td>0</td>\n      <td>-20.6643</td>\n      <td>-27.5485</td>\n      <td>-0.1989</td>\n      <td>0.1224</td>\n      <td>0</td>\n      <td>29.317414</td>\n      <td>0</td>\n    </tr>\n    <tr>\n      <th>2</th>\n      <td>695</td>\n      <td>play_on</td>\n      <td>-29.0081</td>\n      <td>-17.9264</td>\n      <td>-1.6173</td>\n      <td>0.2074</td>\n      <td>1</td>\n      <td>-39.7623</td>\n      <td>-5.8568</td>\n      <td>-0.0766</td>\n      <td>...</td>\n      <td>0</td>\n      <td>26.913757</td>\n      <td>0</td>\n      <td>-21.3668</td>\n      <td>-27.1998</td>\n      <td>-0.2359</td>\n      <td>0.1171</td>\n      <td>0</td>\n      <td>28.176552</td>\n      <td>0</td>\n    </tr>\n    <tr>\n      <th>3</th>\n      <td>696</td>\n      <td>play_on</td>\n      <td>-30.6820</td>\n      <td>-17.6790</td>\n      <td>-1.5735</td>\n      <td>0.2325</td>\n      <td>1</td>\n      <td>-40.0416</td>\n      <td>-6.6899</td>\n      <td>-0.1117</td>\n      <td>...</td>\n      <td>0</td>\n      <td>26.851640</td>\n      <td>0</td>\n      <td>-22.0475</td>\n      <td>-26.7885</td>\n      <td>-0.2286</td>\n      <td>0.1381</td>\n      <td>0</td>\n      <td>26.976682</td>\n      <td>0</td>\n    </tr>\n    <tr>\n      <th>4</th>\n      <td>697</td>\n      <td>play_on</td>\n      <td>-32.2676</td>\n      <td>-17.4541</td>\n      <td>-1.4904</td>\n      <td>0.2115</td>\n      <td>1</td>\n      <td>-40.2687</td>\n      <td>-7.6518</td>\n      <td>-0.0908</td>\n      <td>...</td>\n      <td>0</td>\n      <td>25.629512</td>\n      <td>0</td>\n      <td>-25.3030</td>\n      <td>14.6713</td>\n      <td>-0.1458</td>\n      <td>-0.3770</td>\n      <td>0</td>\n      <td>26.875509</td>\n      <td>1</td>\n    </tr>\n  </tbody>\n</table>\n<p>5 rows × 98 columns</p>\n</div>"
     },
     "execution_count": 180,
     "metadata": {},
     "output_type": "execute_result"
    }
   ],
   "source": [
    "df = pd.read_csv('log.csv')\n",
    "df.head()"
   ],
   "metadata": {
    "collapsed": false
   }
  },
  {
   "cell_type": "markdown",
   "source": [
    "one-hot encode the mode column"
   ],
   "metadata": {
    "collapsed": false
   }
  },
  {
   "cell_type": "code",
   "execution_count": 181,
   "outputs": [
    {
     "data": {
      "text/plain": "      ball_x     ball_y  ball_vx  ball_vy  ball_area       my_x    my_y  \\\n0 -25.426001 -18.310301  -1.8574   0.1634        1.0 -39.394100 -4.6282   \n1 -27.287600 -18.146999  -1.7499   0.1535        1.0 -39.570900 -5.1420   \n2 -29.008101 -17.926399  -1.6173   0.2074        1.0 -39.762299 -5.8568   \n3 -30.681999 -17.679001  -1.5735   0.2325        1.0 -40.041599 -6.6899   \n4 -32.267601 -17.454100  -1.4904   0.2115        1.0 -40.268700 -7.6518   \n\n    my_vx   my_vy  my_dash_power  ...  mode_foul_charge_r  mode_free_kick_l  \\\n0  0.0311  0.0169          100.0  ...                 0.0               0.0   \n1 -0.0707 -0.2055          100.0  ...                 0.0               0.0   \n2 -0.0766 -0.2859          100.0  ...                 0.0               0.0   \n3 -0.1117 -0.3332          100.0  ...                 0.0               0.0   \n4 -0.0908 -0.3848          100.0  ...                 0.0               0.0   \n\n   mode_free_kick_r  mode_goal_kick_l  mode_goal_r  mode_indirect_free_kick_r  \\\n0               0.0               0.0          0.0                        0.0   \n1               0.0               0.0          0.0                        0.0   \n2               0.0               0.0          0.0                        0.0   \n3               0.0               0.0          0.0                        0.0   \n4               0.0               0.0          0.0                        0.0   \n\n   mode_kick_in_l  mode_kick_in_r  mode_offside_r  mode_play_on  \n0             0.0             0.0             0.0           1.0  \n1             0.0             0.0             0.0           1.0  \n2             0.0             0.0             0.0           1.0  \n3             0.0             0.0             0.0           1.0  \n4             0.0             0.0             0.0           1.0  \n\n[5 rows x 109 columns]",
      "text/html": "<div>\n<style scoped>\n    .dataframe tbody tr th:only-of-type {\n        vertical-align: middle;\n    }\n\n    .dataframe tbody tr th {\n        vertical-align: top;\n    }\n\n    .dataframe thead th {\n        text-align: right;\n    }\n</style>\n<table border=\"1\" class=\"dataframe\">\n  <thead>\n    <tr style=\"text-align: right;\">\n      <th></th>\n      <th>ball_x</th>\n      <th>ball_y</th>\n      <th>ball_vx</th>\n      <th>ball_vy</th>\n      <th>ball_area</th>\n      <th>my_x</th>\n      <th>my_y</th>\n      <th>my_vx</th>\n      <th>my_vy</th>\n      <th>my_dash_power</th>\n      <th>...</th>\n      <th>mode_foul_charge_r</th>\n      <th>mode_free_kick_l</th>\n      <th>mode_free_kick_r</th>\n      <th>mode_goal_kick_l</th>\n      <th>mode_goal_r</th>\n      <th>mode_indirect_free_kick_r</th>\n      <th>mode_kick_in_l</th>\n      <th>mode_kick_in_r</th>\n      <th>mode_offside_r</th>\n      <th>mode_play_on</th>\n    </tr>\n  </thead>\n  <tbody>\n    <tr>\n      <th>0</th>\n      <td>-25.426001</td>\n      <td>-18.310301</td>\n      <td>-1.8574</td>\n      <td>0.1634</td>\n      <td>1.0</td>\n      <td>-39.394100</td>\n      <td>-4.6282</td>\n      <td>0.0311</td>\n      <td>0.0169</td>\n      <td>100.0</td>\n      <td>...</td>\n      <td>0.0</td>\n      <td>0.0</td>\n      <td>0.0</td>\n      <td>0.0</td>\n      <td>0.0</td>\n      <td>0.0</td>\n      <td>0.0</td>\n      <td>0.0</td>\n      <td>0.0</td>\n      <td>1.0</td>\n    </tr>\n    <tr>\n      <th>1</th>\n      <td>-27.287600</td>\n      <td>-18.146999</td>\n      <td>-1.7499</td>\n      <td>0.1535</td>\n      <td>1.0</td>\n      <td>-39.570900</td>\n      <td>-5.1420</td>\n      <td>-0.0707</td>\n      <td>-0.2055</td>\n      <td>100.0</td>\n      <td>...</td>\n      <td>0.0</td>\n      <td>0.0</td>\n      <td>0.0</td>\n      <td>0.0</td>\n      <td>0.0</td>\n      <td>0.0</td>\n      <td>0.0</td>\n      <td>0.0</td>\n      <td>0.0</td>\n      <td>1.0</td>\n    </tr>\n    <tr>\n      <th>2</th>\n      <td>-29.008101</td>\n      <td>-17.926399</td>\n      <td>-1.6173</td>\n      <td>0.2074</td>\n      <td>1.0</td>\n      <td>-39.762299</td>\n      <td>-5.8568</td>\n      <td>-0.0766</td>\n      <td>-0.2859</td>\n      <td>100.0</td>\n      <td>...</td>\n      <td>0.0</td>\n      <td>0.0</td>\n      <td>0.0</td>\n      <td>0.0</td>\n      <td>0.0</td>\n      <td>0.0</td>\n      <td>0.0</td>\n      <td>0.0</td>\n      <td>0.0</td>\n      <td>1.0</td>\n    </tr>\n    <tr>\n      <th>3</th>\n      <td>-30.681999</td>\n      <td>-17.679001</td>\n      <td>-1.5735</td>\n      <td>0.2325</td>\n      <td>1.0</td>\n      <td>-40.041599</td>\n      <td>-6.6899</td>\n      <td>-0.1117</td>\n      <td>-0.3332</td>\n      <td>100.0</td>\n      <td>...</td>\n      <td>0.0</td>\n      <td>0.0</td>\n      <td>0.0</td>\n      <td>0.0</td>\n      <td>0.0</td>\n      <td>0.0</td>\n      <td>0.0</td>\n      <td>0.0</td>\n      <td>0.0</td>\n      <td>1.0</td>\n    </tr>\n    <tr>\n      <th>4</th>\n      <td>-32.267601</td>\n      <td>-17.454100</td>\n      <td>-1.4904</td>\n      <td>0.2115</td>\n      <td>1.0</td>\n      <td>-40.268700</td>\n      <td>-7.6518</td>\n      <td>-0.0908</td>\n      <td>-0.3848</td>\n      <td>100.0</td>\n      <td>...</td>\n      <td>0.0</td>\n      <td>0.0</td>\n      <td>0.0</td>\n      <td>0.0</td>\n      <td>0.0</td>\n      <td>0.0</td>\n      <td>0.0</td>\n      <td>0.0</td>\n      <td>0.0</td>\n      <td>1.0</td>\n    </tr>\n  </tbody>\n</table>\n<p>5 rows × 109 columns</p>\n</div>"
     },
     "execution_count": 181,
     "metadata": {},
     "output_type": "execute_result"
    }
   ],
   "source": [
    "df = pd.get_dummies(df, columns=['mode']).astype('float32')\n",
    "df = df.astype('float32')\n",
    "df = df.drop('cycle', axis=1)\n",
    "df.head()"
   ],
   "metadata": {
    "collapsed": false
   }
  },
  {
   "cell_type": "markdown",
   "source": [
    "normalize the data"
   ],
   "metadata": {
    "collapsed": false
   }
  },
  {
   "cell_type": "code",
   "execution_count": 182,
   "outputs": [],
   "source": [
    "for col in df.columns:\n",
    "    if col != 'my_dash_power' and col != 'my_dash_dir' and col != 'my_turn':\n",
    "        df[col] = (df[col] - df[col].min()) / (df[col].max() - df[col].min())"
   ],
   "metadata": {
    "collapsed": false
   }
  },
  {
   "cell_type": "markdown",
   "source": [
    "split the data into train and test"
   ],
   "metadata": {
    "collapsed": false
   }
  },
  {
   "cell_type": "code",
   "execution_count": 183,
   "outputs": [],
   "source": [
    "train = df.sample(frac=0.8, random_state=200)"
   ],
   "metadata": {
    "collapsed": false
   }
  },
  {
   "cell_type": "markdown",
   "source": [
    "split the data into train and validation"
   ],
   "metadata": {
    "collapsed": false
   }
  },
  {
   "cell_type": "code",
   "execution_count": 184,
   "outputs": [
    {
     "data": {
      "text/plain": "          ball_x    ball_y   ball_vx   ball_vy  ball_area      my_x      my_y  \\\n63485   0.643466  0.316554  0.766439  0.234001   0.333333  0.147168  0.464222   \n196402  0.910369  0.101878  0.596165  0.627788   0.333333  0.276007  0.380381   \n132038  0.114648  0.984108  0.497359  0.498894   0.666667  0.089716  0.638149   \n229554  0.114648  0.984108  0.497359  0.498894   0.666667  0.097490  0.624023   \n24586   0.823925  0.958747  0.407505  0.548940   0.333333  0.368785  0.629256   \n\n           my_vx     my_vy  my_dash_power  ...  mode_foul_charge_r  \\\n63485   0.574396  0.367541          100.0  ...                 0.0   \n196402  0.502596  0.498878            0.0  ...                 0.0   \n132038  0.502596  0.498878            0.0  ...                 0.0   \n229554  0.502596  0.498878            0.0  ...                 0.0   \n24586   0.121698  0.455473            0.0  ...                 0.0   \n\n        mode_free_kick_l  mode_free_kick_r  mode_goal_kick_l  mode_goal_r  \\\n63485                0.0               0.0               0.0          0.0   \n196402               0.0               0.0               0.0          0.0   \n132038               0.0               0.0               0.0          0.0   \n229554               0.0               0.0               0.0          0.0   \n24586                0.0               0.0               0.0          0.0   \n\n        mode_indirect_free_kick_r  mode_kick_in_l  mode_kick_in_r  \\\n63485                         0.0             0.0             0.0   \n196402                        0.0             0.0             0.0   \n132038                        0.0             0.0             0.0   \n229554                        0.0             0.0             0.0   \n24586                         0.0             0.0             0.0   \n\n        mode_offside_r  mode_play_on  \n63485              0.0           1.0  \n196402             0.0           1.0  \n132038             0.0           0.0  \n229554             0.0           0.0  \n24586              0.0           1.0  \n\n[5 rows x 109 columns]",
      "text/html": "<div>\n<style scoped>\n    .dataframe tbody tr th:only-of-type {\n        vertical-align: middle;\n    }\n\n    .dataframe tbody tr th {\n        vertical-align: top;\n    }\n\n    .dataframe thead th {\n        text-align: right;\n    }\n</style>\n<table border=\"1\" class=\"dataframe\">\n  <thead>\n    <tr style=\"text-align: right;\">\n      <th></th>\n      <th>ball_x</th>\n      <th>ball_y</th>\n      <th>ball_vx</th>\n      <th>ball_vy</th>\n      <th>ball_area</th>\n      <th>my_x</th>\n      <th>my_y</th>\n      <th>my_vx</th>\n      <th>my_vy</th>\n      <th>my_dash_power</th>\n      <th>...</th>\n      <th>mode_foul_charge_r</th>\n      <th>mode_free_kick_l</th>\n      <th>mode_free_kick_r</th>\n      <th>mode_goal_kick_l</th>\n      <th>mode_goal_r</th>\n      <th>mode_indirect_free_kick_r</th>\n      <th>mode_kick_in_l</th>\n      <th>mode_kick_in_r</th>\n      <th>mode_offside_r</th>\n      <th>mode_play_on</th>\n    </tr>\n  </thead>\n  <tbody>\n    <tr>\n      <th>63485</th>\n      <td>0.643466</td>\n      <td>0.316554</td>\n      <td>0.766439</td>\n      <td>0.234001</td>\n      <td>0.333333</td>\n      <td>0.147168</td>\n      <td>0.464222</td>\n      <td>0.574396</td>\n      <td>0.367541</td>\n      <td>100.0</td>\n      <td>...</td>\n      <td>0.0</td>\n      <td>0.0</td>\n      <td>0.0</td>\n      <td>0.0</td>\n      <td>0.0</td>\n      <td>0.0</td>\n      <td>0.0</td>\n      <td>0.0</td>\n      <td>0.0</td>\n      <td>1.0</td>\n    </tr>\n    <tr>\n      <th>196402</th>\n      <td>0.910369</td>\n      <td>0.101878</td>\n      <td>0.596165</td>\n      <td>0.627788</td>\n      <td>0.333333</td>\n      <td>0.276007</td>\n      <td>0.380381</td>\n      <td>0.502596</td>\n      <td>0.498878</td>\n      <td>0.0</td>\n      <td>...</td>\n      <td>0.0</td>\n      <td>0.0</td>\n      <td>0.0</td>\n      <td>0.0</td>\n      <td>0.0</td>\n      <td>0.0</td>\n      <td>0.0</td>\n      <td>0.0</td>\n      <td>0.0</td>\n      <td>1.0</td>\n    </tr>\n    <tr>\n      <th>132038</th>\n      <td>0.114648</td>\n      <td>0.984108</td>\n      <td>0.497359</td>\n      <td>0.498894</td>\n      <td>0.666667</td>\n      <td>0.089716</td>\n      <td>0.638149</td>\n      <td>0.502596</td>\n      <td>0.498878</td>\n      <td>0.0</td>\n      <td>...</td>\n      <td>0.0</td>\n      <td>0.0</td>\n      <td>0.0</td>\n      <td>0.0</td>\n      <td>0.0</td>\n      <td>0.0</td>\n      <td>0.0</td>\n      <td>0.0</td>\n      <td>0.0</td>\n      <td>0.0</td>\n    </tr>\n    <tr>\n      <th>229554</th>\n      <td>0.114648</td>\n      <td>0.984108</td>\n      <td>0.497359</td>\n      <td>0.498894</td>\n      <td>0.666667</td>\n      <td>0.097490</td>\n      <td>0.624023</td>\n      <td>0.502596</td>\n      <td>0.498878</td>\n      <td>0.0</td>\n      <td>...</td>\n      <td>0.0</td>\n      <td>0.0</td>\n      <td>0.0</td>\n      <td>0.0</td>\n      <td>0.0</td>\n      <td>0.0</td>\n      <td>0.0</td>\n      <td>0.0</td>\n      <td>0.0</td>\n      <td>0.0</td>\n    </tr>\n    <tr>\n      <th>24586</th>\n      <td>0.823925</td>\n      <td>0.958747</td>\n      <td>0.407505</td>\n      <td>0.548940</td>\n      <td>0.333333</td>\n      <td>0.368785</td>\n      <td>0.629256</td>\n      <td>0.121698</td>\n      <td>0.455473</td>\n      <td>0.0</td>\n      <td>...</td>\n      <td>0.0</td>\n      <td>0.0</td>\n      <td>0.0</td>\n      <td>0.0</td>\n      <td>0.0</td>\n      <td>0.0</td>\n      <td>0.0</td>\n      <td>0.0</td>\n      <td>0.0</td>\n      <td>1.0</td>\n    </tr>\n  </tbody>\n</table>\n<p>5 rows × 109 columns</p>\n</div>"
     },
     "execution_count": 184,
     "metadata": {},
     "output_type": "execute_result"
    }
   ],
   "source": [
    "validation = df.drop(train.index)\n",
    "train.head()"
   ],
   "metadata": {
    "collapsed": false
   }
  },
  {
   "cell_type": "markdown",
   "source": [
    "add layers to the model"
   ],
   "metadata": {
    "collapsed": false
   }
  },
  {
   "cell_type": "code",
   "execution_count": 185,
   "outputs": [],
   "source": [
    "model = tf.keras.models.Sequential([\n",
    "    tf.keras.layers.Dense(256, activation='relu', input_shape=(len(df.columns) - 3,)),\n",
    "    tf.keras.layers.Dense(128, activation='relu'),\n",
    "    tf.keras.layers.Dense(256, activation='relu'),\n",
    "    tf.keras.layers.Dropout(0.2),\n",
    "    tf.keras.layers.Dense(128, activation='relu'),\n",
    "    tf.keras.layers.Dense(64, activation='relu'),\n",
    "    tf.keras.layers.Dropout(0.2),\n",
    "    tf.keras.layers.Dense(32, activation='relu'),\n",
    "    tf.keras.layers.Dense(32, activation='relu'),\n",
    "    tf.keras.layers.Dense(3, activation='linear')\n",
    "])"
   ],
   "metadata": {
    "collapsed": false
   }
  },
  {
   "cell_type": "code",
   "execution_count": 186,
   "outputs": [],
   "source": [
    "model.compile(optimizer='adam', loss='mse')"
   ],
   "metadata": {
    "collapsed": false
   }
  },
  {
   "cell_type": "code",
   "execution_count": 187,
   "outputs": [
    {
     "name": "stdout",
     "output_type": "stream",
     "text": [
      "Epoch 1/100\n",
      "6029/6029 [==============================] - 13s 2ms/step - loss: 1452.7249 - val_loss: 1411.5336\n",
      "Epoch 2/100\n",
      "6029/6029 [==============================] - 10s 2ms/step - loss: 1402.3223 - val_loss: 1403.5830\n",
      "Epoch 3/100\n",
      "6029/6029 [==============================] - 10s 2ms/step - loss: 1388.2327 - val_loss: 1386.4081\n",
      "Epoch 4/100\n",
      "6029/6029 [==============================] - 10s 2ms/step - loss: 1380.9143 - val_loss: 1380.5146\n",
      "Epoch 5/100\n",
      "6029/6029 [==============================] - 10s 2ms/step - loss: 1376.7820 - val_loss: 1378.3131\n",
      "Epoch 6/100\n",
      "6029/6029 [==============================] - 10s 2ms/step - loss: 1373.4308 - val_loss: 1385.3672\n",
      "Epoch 7/100\n",
      "6029/6029 [==============================] - 10s 2ms/step - loss: 1370.0029 - val_loss: 1368.5580\n",
      "Epoch 8/100\n",
      "6029/6029 [==============================] - 10s 2ms/step - loss: 1366.7760 - val_loss: 1368.3485\n",
      "Epoch 9/100\n",
      "6029/6029 [==============================] - 10s 2ms/step - loss: 1363.1772 - val_loss: 1370.6801\n",
      "Epoch 10/100\n",
      "6029/6029 [==============================] - 10s 2ms/step - loss: 1352.0284 - val_loss: 1381.9067\n",
      "Epoch 11/100\n",
      "6029/6029 [==============================] - 10s 2ms/step - loss: 1343.7172 - val_loss: 1345.2422\n",
      "Epoch 12/100\n",
      "6029/6029 [==============================] - 10s 2ms/step - loss: 1337.9253 - val_loss: 1348.8773\n",
      "Epoch 13/100\n",
      "6029/6029 [==============================] - 10s 2ms/step - loss: 1328.0272 - val_loss: 1325.4586\n",
      "Epoch 14/100\n",
      "6029/6029 [==============================] - 10s 2ms/step - loss: 1322.7267 - val_loss: 1321.7926\n",
      "Epoch 15/100\n",
      "6029/6029 [==============================] - 10s 2ms/step - loss: 1318.3600 - val_loss: 1332.0417\n",
      "Epoch 16/100\n",
      "6029/6029 [==============================] - 10s 2ms/step - loss: 1312.8099 - val_loss: 1323.4777\n",
      "Epoch 17/100\n",
      "6029/6029 [==============================] - 10s 2ms/step - loss: 1309.6165 - val_loss: 1335.9204\n",
      "Epoch 18/100\n",
      "6029/6029 [==============================] - 10s 2ms/step - loss: 1305.8832 - val_loss: 1323.5629\n",
      "Epoch 19/100\n",
      "6029/6029 [==============================] - 10s 2ms/step - loss: 1302.5952 - val_loss: 1318.4503\n",
      "Epoch 20/100\n",
      "6029/6029 [==============================] - 10s 2ms/step - loss: 1297.6135 - val_loss: 1339.3813\n",
      "Epoch 21/100\n",
      "6029/6029 [==============================] - 10s 2ms/step - loss: 1296.6848 - val_loss: 1323.9518\n",
      "Epoch 22/100\n",
      "6029/6029 [==============================] - 10s 2ms/step - loss: 1292.5094 - val_loss: 1312.2531\n",
      "Epoch 23/100\n",
      "6029/6029 [==============================] - 10s 2ms/step - loss: 1290.5526 - val_loss: 1316.6616\n",
      "Epoch 24/100\n",
      "6029/6029 [==============================] - 10s 2ms/step - loss: 1288.4774 - val_loss: 1306.0315\n",
      "Epoch 25/100\n",
      "6029/6029 [==============================] - 10s 2ms/step - loss: 1284.9818 - val_loss: 1298.8196\n",
      "Epoch 26/100\n",
      "6029/6029 [==============================] - 10s 2ms/step - loss: 1283.0347 - val_loss: 1319.1450\n",
      "Epoch 27/100\n",
      "6029/6029 [==============================] - 10s 2ms/step - loss: 1281.1788 - val_loss: 1302.3364\n",
      "Epoch 28/100\n",
      "6029/6029 [==============================] - 10s 2ms/step - loss: 1278.3794 - val_loss: 1308.6333\n",
      "Epoch 29/100\n",
      "6029/6029 [==============================] - 10s 2ms/step - loss: 1275.9338 - val_loss: 1296.2703\n",
      "Epoch 30/100\n",
      "6029/6029 [==============================] - 10s 2ms/step - loss: 1272.4299 - val_loss: 1323.4540\n",
      "Epoch 31/100\n",
      "6029/6029 [==============================] - 9s 2ms/step - loss: 1270.5463 - val_loss: 1301.9722\n",
      "Epoch 32/100\n",
      "6029/6029 [==============================] - 10s 2ms/step - loss: 1268.1752 - val_loss: 1297.6934\n",
      "Epoch 33/100\n",
      "6029/6029 [==============================] - 10s 2ms/step - loss: 1263.1669 - val_loss: 1291.2874\n",
      "Epoch 34/100\n",
      "6029/6029 [==============================] - 10s 2ms/step - loss: 1265.1112 - val_loss: 1290.5000\n",
      "Epoch 35/100\n",
      "6029/6029 [==============================] - 10s 2ms/step - loss: 1260.5530 - val_loss: 1318.3009\n",
      "Epoch 36/100\n",
      "6029/6029 [==============================] - 10s 2ms/step - loss: 1258.3741 - val_loss: 1297.2997\n",
      "Epoch 37/100\n",
      "6029/6029 [==============================] - 10s 2ms/step - loss: 1258.2557 - val_loss: 1291.8738\n",
      "Epoch 38/100\n",
      "6029/6029 [==============================] - 10s 2ms/step - loss: 1255.8947 - val_loss: 1284.1069\n",
      "Epoch 39/100\n",
      "6029/6029 [==============================] - 10s 2ms/step - loss: 1255.1401 - val_loss: 1292.9321\n",
      "Epoch 40/100\n",
      "6029/6029 [==============================] - 10s 2ms/step - loss: 1249.9257 - val_loss: 1288.2883\n",
      "Epoch 41/100\n",
      "6029/6029 [==============================] - 10s 2ms/step - loss: 1246.4961 - val_loss: 1288.0190\n",
      "Epoch 42/100\n",
      "6029/6029 [==============================] - 10s 2ms/step - loss: 1245.5284 - val_loss: 1270.0964\n",
      "Epoch 43/100\n",
      "6029/6029 [==============================] - 10s 2ms/step - loss: 1242.9181 - val_loss: 1277.2324\n",
      "Epoch 44/100\n",
      "6029/6029 [==============================] - 10s 2ms/step - loss: 1239.9349 - val_loss: 1284.6996\n",
      "Epoch 45/100\n",
      "6029/6029 [==============================] - 10s 2ms/step - loss: 1239.2537 - val_loss: 1281.8020\n",
      "Epoch 46/100\n",
      "6029/6029 [==============================] - 10s 2ms/step - loss: 1235.6490 - val_loss: 1270.7452\n",
      "Epoch 47/100\n",
      "6029/6029 [==============================] - 10s 2ms/step - loss: 1235.5641 - val_loss: 1287.2133\n",
      "Epoch 48/100\n",
      "6029/6029 [==============================] - 10s 2ms/step - loss: 1235.2849 - val_loss: 1268.7366\n",
      "Epoch 49/100\n",
      "6029/6029 [==============================] - 10s 2ms/step - loss: 1233.2621 - val_loss: 1308.1852\n",
      "Epoch 50/100\n",
      "6029/6029 [==============================] - 10s 2ms/step - loss: 1230.0166 - val_loss: 1277.8506\n",
      "Epoch 51/100\n",
      "6029/6029 [==============================] - 10s 2ms/step - loss: 1227.4045 - val_loss: 1277.0497\n",
      "Epoch 52/100\n",
      "6029/6029 [==============================] - 10s 2ms/step - loss: 1225.6744 - val_loss: 1277.3164\n",
      "Epoch 53/100\n",
      "6029/6029 [==============================] - 10s 2ms/step - loss: 1226.5944 - val_loss: 1277.2405\n",
      "Epoch 54/100\n",
      "6029/6029 [==============================] - 10s 2ms/step - loss: 1221.8688 - val_loss: 1262.8607\n",
      "Epoch 55/100\n",
      "6029/6029 [==============================] - 10s 2ms/step - loss: 1221.3524 - val_loss: 1268.8389\n",
      "Epoch 56/100\n",
      "6029/6029 [==============================] - 10s 2ms/step - loss: 1221.2909 - val_loss: 1265.1392\n",
      "Epoch 57/100\n",
      "6029/6029 [==============================] - 10s 2ms/step - loss: 1220.4264 - val_loss: 1275.0393\n",
      "Epoch 58/100\n",
      "6029/6029 [==============================] - 10s 2ms/step - loss: 1217.7417 - val_loss: 1281.6112\n",
      "Epoch 59/100\n",
      "6029/6029 [==============================] - 10s 2ms/step - loss: 1218.1666 - val_loss: 1275.5962\n",
      "Epoch 60/100\n",
      "6029/6029 [==============================] - 10s 2ms/step - loss: 1214.9465 - val_loss: 1274.6333\n",
      "Epoch 61/100\n",
      "6029/6029 [==============================] - 10s 2ms/step - loss: 1212.4706 - val_loss: 1273.8958\n",
      "Epoch 62/100\n",
      "6029/6029 [==============================] - 10s 2ms/step - loss: 1212.4001 - val_loss: 1267.2384\n",
      "Epoch 63/100\n",
      "6029/6029 [==============================] - 11s 2ms/step - loss: 1211.8080 - val_loss: 1274.8390\n",
      "Epoch 64/100\n",
      "6029/6029 [==============================] - 10s 2ms/step - loss: 1207.1324 - val_loss: 1285.0320\n",
      "Epoch 65/100\n",
      "6029/6029 [==============================] - 10s 2ms/step - loss: 1206.4584 - val_loss: 1271.6886\n",
      "Epoch 66/100\n",
      "6029/6029 [==============================] - 10s 2ms/step - loss: 1207.2728 - val_loss: 1300.2056\n",
      "Epoch 67/100\n",
      "6029/6029 [==============================] - 10s 2ms/step - loss: 1204.1619 - val_loss: 1281.2125\n",
      "Epoch 68/100\n",
      "6029/6029 [==============================] - 10s 2ms/step - loss: 1203.7565 - val_loss: 1280.1462\n",
      "Epoch 69/100\n",
      "6029/6029 [==============================] - 10s 2ms/step - loss: 1202.7428 - val_loss: 1285.1050\n",
      "Epoch 70/100\n",
      "6029/6029 [==============================] - 10s 2ms/step - loss: 1197.6974 - val_loss: 1282.3331\n",
      "Epoch 71/100\n",
      "6029/6029 [==============================] - 10s 2ms/step - loss: 1199.1786 - val_loss: 1265.6512\n",
      "Epoch 72/100\n",
      "6029/6029 [==============================] - 10s 2ms/step - loss: 1198.6478 - val_loss: 1281.6808\n",
      "Epoch 73/100\n",
      "6029/6029 [==============================] - 10s 2ms/step - loss: 1196.1105 - val_loss: 1272.4626\n",
      "Epoch 74/100\n",
      "6029/6029 [==============================] - 10s 2ms/step - loss: 1193.6993 - val_loss: 1272.3020\n",
      "Epoch 75/100\n",
      "6029/6029 [==============================] - 10s 2ms/step - loss: 1194.4963 - val_loss: 1265.3109\n",
      "Epoch 76/100\n",
      "6029/6029 [==============================] - 10s 2ms/step - loss: 1190.8199 - val_loss: 1268.0487\n",
      "Epoch 77/100\n",
      "6029/6029 [==============================] - 10s 2ms/step - loss: 1191.6042 - val_loss: 1267.7028\n",
      "Epoch 78/100\n",
      "6029/6029 [==============================] - 10s 2ms/step - loss: 1191.3748 - val_loss: 1280.7590\n",
      "Epoch 79/100\n",
      "6029/6029 [==============================] - 10s 2ms/step - loss: 1187.4608 - val_loss: 1279.2555\n",
      "Epoch 80/100\n",
      "6029/6029 [==============================] - 10s 2ms/step - loss: 1187.6969 - val_loss: 1268.4274\n",
      "Epoch 81/100\n",
      "6029/6029 [==============================] - 10s 2ms/step - loss: 1186.1691 - val_loss: 1267.1033\n",
      "Epoch 82/100\n",
      "6029/6029 [==============================] - 10s 2ms/step - loss: 1183.8705 - val_loss: 1278.6542\n",
      "Epoch 83/100\n",
      "6029/6029 [==============================] - 10s 2ms/step - loss: 1182.5509 - val_loss: 1260.5980\n",
      "Epoch 84/100\n",
      "6029/6029 [==============================] - 10s 2ms/step - loss: 1181.7628 - val_loss: 1269.1620\n",
      "Epoch 85/100\n",
      "6029/6029 [==============================] - 10s 2ms/step - loss: 1180.6223 - val_loss: 1282.2275\n",
      "Epoch 86/100\n",
      "6029/6029 [==============================] - 10s 2ms/step - loss: 1179.4148 - val_loss: 1277.9548\n",
      "Epoch 87/100\n",
      "6029/6029 [==============================] - 10s 2ms/step - loss: 1179.6552 - val_loss: 1265.8231\n",
      "Epoch 88/100\n",
      "6029/6029 [==============================] - 10s 2ms/step - loss: 1180.0316 - val_loss: 1278.4149\n",
      "Epoch 89/100\n",
      "6029/6029 [==============================] - 10s 2ms/step - loss: 1176.9133 - val_loss: 1280.7570\n",
      "Epoch 90/100\n",
      "6029/6029 [==============================] - 10s 2ms/step - loss: 1175.0974 - val_loss: 1276.3164\n",
      "Epoch 91/100\n",
      "6029/6029 [==============================] - 10s 2ms/step - loss: 1175.5277 - val_loss: 1264.2178\n",
      "Epoch 92/100\n",
      "6029/6029 [==============================] - 10s 2ms/step - loss: 1172.7167 - val_loss: 1262.4916\n",
      "Epoch 93/100\n",
      "6029/6029 [==============================] - 11s 2ms/step - loss: 1172.4554 - val_loss: 1288.6082\n",
      "Epoch 94/100\n",
      "6029/6029 [==============================] - 10s 2ms/step - loss: 1170.5262 - val_loss: 1283.5481\n",
      "Epoch 95/100\n",
      "6029/6029 [==============================] - 10s 2ms/step - loss: 1169.6698 - val_loss: 1282.8712\n",
      "Epoch 96/100\n",
      "6029/6029 [==============================] - 10s 2ms/step - loss: 1167.6895 - val_loss: 1268.9303\n",
      "Epoch 97/100\n",
      "6029/6029 [==============================] - 10s 2ms/step - loss: 1166.7460 - val_loss: 1276.9038\n",
      "Epoch 98/100\n",
      "6029/6029 [==============================] - 10s 2ms/step - loss: 1166.1001 - val_loss: 1272.6044\n",
      "Epoch 99/100\n",
      "6029/6029 [==============================] - 10s 2ms/step - loss: 1164.8307 - val_loss: 1263.8545\n",
      "Epoch 100/100\n",
      "6029/6029 [==============================] - 10s 2ms/step - loss: 1164.4823 - val_loss: 1273.5541\n"
     ]
    },
    {
     "data": {
      "text/plain": "<keras.src.callbacks.History at 0x3be6e6410>"
     },
     "execution_count": 187,
     "metadata": {},
     "output_type": "execute_result"
    }
   ],
   "source": [
    "model.fit(train.drop(columns=['my_dash_power', 'my_dash_dir', 'my_turn'], axis=1), train.loc[:,['my_dash_power', 'my_dash_dir', 'my_turn']], epochs=100, validation_data=(validation.drop(['my_dash_power', 'my_dash_dir', 'my_turn'], axis=1), validation.loc[:,['my_dash_power', 'my_dash_dir', 'my_turn']]))"
   ],
   "metadata": {
    "collapsed": false
   }
  },
  {
   "cell_type": "markdown",
   "source": [
    "plot the loss"
   ],
   "metadata": {
    "collapsed": false
   }
  },
  {
   "cell_type": "code",
   "execution_count": 188,
   "outputs": [
    {
     "data": {
      "text/plain": "[<matplotlib.lines.Line2D at 0x3aea59150>]"
     },
     "execution_count": 188,
     "metadata": {},
     "output_type": "execute_result"
    },
    {
     "data": {
      "text/plain": "<Figure size 640x480 with 1 Axes>",
      "image/png": "[encoded data removed]"
     },
     "metadata": {},
     "output_type": "display_data"
    }
   ],
   "source": [
    "plt.plot(model.history.history['loss'])"
   ],
   "metadata": {
    "collapsed": false
   }
  },
  {
   "cell_type": "markdown",
   "source": [
    "plot the validation loss"
   ],
   "metadata": {
    "collapsed": false
   }
  },
  {
   "cell_type": "code",
   "execution_count": 189,
   "outputs": [
    {
     "data": {
      "text/plain": "[<matplotlib.lines.Line2D at 0x3ea38f190>]"
     },
     "execution_count": 189,
     "metadata": {},
     "output_type": "execute_result"
    },
    {
     "data": {
      "text/plain": "<Figure size 640x480 with 1 Axes>",
      "image/png": "[encoded data removed]"
     },
     "metadata": {},
     "output_type": "display_data"
    }
   ],
   "source": [
    "plt.plot(model.history.history['val_loss'])"
   ],
   "metadata": {
    "collapsed": false
   }
  },
  {
   "cell_type": "code",
   "execution_count": 190,
   "outputs": [
    {
     "name": "stderr",
     "output_type": "stream",
     "text": [
      "/Users/hasan/Documents/final-project/venv/lib/python3.11/site-packages/keras/src/engine/training.py:3000: UserWarning: You are saving your model as an HDF5 file via `model.save()`. This file format is considered legacy. We recommend using instead the native Keras format, e.g. `model.save('my_model.keras')`.\n",
      "  saving_api.save_model(\n"
     ]
    }
   ],
   "source": [
    "model.save('model.h5')"
   ],
   "metadata": {
    "collapsed": false
   }
  },
  {
   "cell_type": "code",
   "execution_count": 191,
   "outputs": [
    {
     "name": "stdout",
     "output_type": "stream",
     "text": [
      "1508/1508 [==============================] - 1s 638us/step - loss: 1273.5541\n"
     ]
    },
    {
     "data": {
      "text/plain": "1273.5540771484375"
     },
     "execution_count": 191,
     "metadata": {},
     "output_type": "execute_result"
    }
   ],
   "source": [
    "model.evaluate(validation.drop(['my_dash_power', 'my_dash_dir', 'my_turn'], axis=1), validation.loc[:,['my_dash_power', 'my_dash_dir', 'my_turn']])"
   ],
   "metadata": {
    "collapsed": false
   }
  },
  {
   "cell_type": "code",
   "execution_count": 241,
   "outputs": [
    {
     "name": "stdout",
     "output_type": "stream",
     "text": [
      "1508/1508 [==============================] - 1s 326us/step\n"
     ]
    }
   ],
   "source": [
    "result = model.predict(validation.drop(['my_dash_power', 'my_dash_dir', 'my_turn'], axis=1))"
   ],
   "metadata": {
    "collapsed": false
   }
  },
  {
   "cell_type": "code",
   "execution_count": 243,
   "outputs": [],
   "source": [
    "result_df = pd.DataFrame(result, columns=['my_dash_power', 'my_dash_dir', 'my_turn'])"
   ],
   "metadata": {
    "collapsed": false
   }
  },
  {
   "cell_type": "code",
   "execution_count": 244,
   "outputs": [
    {
     "data": {
      "text/plain": "   my_dash_power  my_dash_dir   my_turn\n0      87.808815    -0.006646 -0.971444\n1      97.032539     1.112755 -5.281590\n2      73.655289     4.603970 -7.903185",
      "text/html": "<div>\n<style scoped>\n    .dataframe tbody tr th:only-of-type {\n        vertical-align: middle;\n    }\n\n    .dataframe tbody tr th {\n        vertical-align: top;\n    }\n\n    .dataframe thead th {\n        text-align: right;\n    }\n</style>\n<table border=\"1\" class=\"dataframe\">\n  <thead>\n    <tr style=\"text-align: right;\">\n      <th></th>\n      <th>my_dash_power</th>\n      <th>my_dash_dir</th>\n      <th>my_turn</th>\n    </tr>\n  </thead>\n  <tbody>\n    <tr>\n      <th>0</th>\n      <td>87.808815</td>\n      <td>-0.006646</td>\n      <td>-0.971444</td>\n    </tr>\n    <tr>\n      <th>1</th>\n      <td>97.032539</td>\n      <td>1.112755</td>\n      <td>-5.281590</td>\n    </tr>\n    <tr>\n      <th>2</th>\n      <td>73.655289</td>\n      <td>4.603970</td>\n      <td>-7.903185</td>\n    </tr>\n  </tbody>\n</table>\n</div>"
     },
     "execution_count": 244,
     "metadata": {},
     "output_type": "execute_result"
    }
   ],
   "source": [
    "result_df.head(3)"
   ],
   "metadata": {
    "collapsed": false
   }
  },
  {
   "cell_type": "markdown",
   "source": [
    "save in result.csv"
   ],
   "metadata": {
    "collapsed": false
   }
  },
  {
   "cell_type": "code",
   "execution_count": 245,
   "outputs": [],
   "source": [
    "result_df.to_csv('result.csv', index=False)"
   ],
   "metadata": {
    "collapsed": false
   }
  },
  {
   "cell_type": "code",
   "execution_count": null,
   "outputs": [],
   "source": [],
   "metadata": {
    "collapsed": false
   }
  }
 ],
 "metadata": {
  "kernelspec": {
   "name": "venv\n",
   "language": "python",
   "display_name": "venv\n"
  },
  "language_info": {
   "codemirror_mode": {
    "name": "ipython",
    "version": 2
   },
   "file_extension": ".py",
   "mimetype": "text/x-python",
   "name": "python",
   "nbconvert_exporter": "python",
   "pygments_lexer": "ipython2",
   "version": "2.7.6"
  }
 },
 "nbformat": 4,
 "nbformat_minor": 0
}
